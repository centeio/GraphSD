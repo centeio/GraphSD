{
 "cells": [
  {
   "cell_type": "markdown",
   "id": "5dd71652",
   "metadata": {},
   "source": [
    "# 🧪 GraphSDMining: Subgroup Discovery Example\n",
    "This notebook demonstrates how to load position and social data, bin attributes, construct an interaction graph, mine subgroups, and visualize the top pattern."
   ]
  },
  {
   "cell_type": "code",
   "execution_count": null,
   "id": "e41184ea",
   "metadata": {},
   "outputs": [],
   "source": [
    "import logging\n",
    "from graphsd import GraphSDMining\n",
    "from graphsd.datasets import load_data\n",
    "from graphsd.utils import make_bins\n",
    "from graphsd.viz import graph_viz\n",
    "\n",
    "# Enable logging\n",
    "logging.basicConfig(level=logging.INFO)\n"
   ]
  },
  {
   "cell_type": "markdown",
   "id": "892f509c",
   "metadata": {},
   "source": [
    "## Step 1: Load Dataset"
   ]
  },
  {
   "cell_type": "code",
   "execution_count": null,
   "id": "97981660",
   "metadata": {},
   "outputs": [],
   "source": [
    "position_df, social_df = load_data(\"playground_a\")\n",
    "position_df.head(), social_df.head()\n"
   ]
  },
  {
   "cell_type": "markdown",
   "id": "bac5b127",
   "metadata": {},
   "source": [
    "## Step 2: Discretize Social Attributes"
   ]
  },
  {
   "cell_type": "code",
   "execution_count": null,
   "id": "7f8d38d1",
   "metadata": {},
   "outputs": [],
   "source": [
    "social_df = make_bins(social_df, n_bins=3, strategy=\"quantile\")\n",
    "social_df.head()\n"
   ]
  },
  {
   "cell_type": "markdown",
   "id": "08da9b8c",
   "metadata": {},
   "source": [
    "## Step 3: Create and Configure GraphSDMining Model"
   ]
  },
  {
   "cell_type": "code",
   "execution_count": null,
   "id": "6e597ceb",
   "metadata": {},
   "outputs": [],
   "source": [
    "model = GraphSDMining(random_state=42, n_jobs=1)\n"
   ]
  },
  {
   "cell_type": "markdown",
   "id": "10c2eed5",
   "metadata": {},
   "source": [
    "## Step 4: Read Data and Construct Graph"
   ]
  },
  {
   "cell_type": "code",
   "execution_count": null,
   "id": "a595a6ee",
   "metadata": {},
   "outputs": [],
   "source": [
    "model.read_data(position_df, social_df, time_step=10, proximity=1.0)\n"
   ]
  },
  {
   "cell_type": "markdown",
   "id": "46973f91",
   "metadata": {},
   "source": [
    "## Step 5: Discover Patterns"
   ]
  },
  {
   "cell_type": "code",
   "execution_count": null,
   "id": "9866d3de",
   "metadata": {},
   "outputs": [],
   "source": [
    "patterns = model.subgroup_discovery(mode=\"comparison\", min_support=0.2, metric=\"mean\", quality_measure=\"qP\")\n"
   ]
  },
  {
   "cell_type": "markdown",
   "id": "5aff4cf9",
   "metadata": {},
   "source": [
    "## Step 6: View Pattern Summary"
   ]
  },
  {
   "cell_type": "code",
   "execution_count": null,
   "id": "d82e3a6d",
   "metadata": {},
   "outputs": [],
   "source": [
    "df = model.to_dataframe(patterns)\n",
    "df.head()\n"
   ]
  },
  {
   "cell_type": "markdown",
   "id": "02a83e1e",
   "metadata": {},
   "source": [
    "## Step 7: Visualize Top Pattern"
   ]
  },
  {
   "cell_type": "code",
   "execution_count": null,
   "id": "c1e4e92e",
   "metadata": {},
   "outputs": [],
   "source": [
    "if patterns:\n",
    "    graph_viz(patterns[0].graph, title=str(patterns[0].name))\n"
   ]
  }
 ],
 "metadata": {},
 "nbformat": 4,
 "nbformat_minor": 5
}
