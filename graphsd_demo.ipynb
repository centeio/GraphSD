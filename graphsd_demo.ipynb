{
 "cells": [
  {
   "cell_type": "markdown",
   "id": "5dd71652",
   "metadata": {},
   "source": [
    "# 🧪 GraphSDMining: Subgroup Discovery Example\n",
    "This notebook demonstrates how to load position and social data, bin attributes, construct an interaction graph, mine subgroups, and visualize the top pattern."
   ]
  },
  {
   "cell_type": "code",
   "id": "e41184ea",
   "metadata": {
    "ExecuteTime": {
     "end_time": "2025-06-24T09:37:54.783430Z",
     "start_time": "2025-06-24T09:37:53.643100Z"
    }
   },
   "source": [
    "import logging\n",
    "from graphsd import GraphSDMining\n",
    "from graphsd.datasets import load_data\n",
    "from graphsd.utils import make_bins\n",
    "from graphsd.viz import graph_viz\n",
    "\n",
    "# Enable logging\n",
    "logging.basicConfig(level=logging.INFO)\n"
   ],
   "outputs": [],
   "execution_count": 1
  },
  {
   "cell_type": "markdown",
   "id": "892f509c",
   "metadata": {},
   "source": [
    "## Step 1: Load Dataset"
   ]
  },
  {
   "cell_type": "code",
   "id": "97981660",
   "metadata": {
    "ExecuteTime": {
     "end_time": "2025-06-24T09:37:58.132901Z",
     "start_time": "2025-06-24T09:37:58.108698Z"
    }
   },
   "source": [
    "position_df, social_df = load_data(\"playground_a\")\n",
    "position_df.head(), social_df.head()\n"
   ],
   "outputs": [
    {
     "data": {
      "text/plain": [
       "(   id      time          x          y\n",
       " 0   2  2303.372  69.998686  47.570696\n",
       " 1   2  2304.372  69.984733  47.570696\n",
       " 2   2  2305.372  70.053981  47.570697\n",
       " 3   2  2306.373  70.407967  47.995121\n",
       " 4   2  2307.373  70.650858  47.570705,\n",
       "    id Gender  AgeM  Emotion  ProSoc  Peer  Conduct  Hyper\n",
       " 0   1      F   102        0       8     2        0      2\n",
       " 1   2      F    97        2       9     0        0      1\n",
       " 2   3      M   106        0       4     0        1      2\n",
       " 3   4      F    98        1      10     1        1      6\n",
       " 4   5      F   100        4       9     1        3      2)"
      ]
     },
     "execution_count": 2,
     "metadata": {},
     "output_type": "execute_result"
    }
   ],
   "execution_count": 2
  },
  {
   "cell_type": "markdown",
   "id": "bac5b127",
   "metadata": {},
   "source": [
    "## Step 2: Discretize Social Attributes"
   ]
  },
  {
   "cell_type": "code",
   "id": "7f8d38d1",
   "metadata": {
    "ExecuteTime": {
     "end_time": "2025-06-24T09:38:08.904380Z",
     "start_time": "2025-06-24T09:38:08.891126Z"
    }
   },
   "source": [
    "social_df = make_bins(social_df, n_bins=3, strategy=\"quantile\")\n",
    "social_df.head()\n"
   ],
   "outputs": [
    {
     "name": "stderr",
     "output_type": "stream",
     "text": [
      "INFO:graphsd.utils:Skipping column 'Peer' — only 3 unique values (≤ bins: 3)\n",
      "INFO:graphsd.utils:Completed binning of numeric columns.\n"
     ]
    },
    {
     "data": {
      "text/plain": [
       "   id Gender  AgeM  Emotion  ProSoc  Peer  Conduct  Hyper\n",
       "0   1      F     1        0       1     2        0      0\n",
       "1   2      F     0        1       2     0        0      0\n",
       "2   3      M     2        0       0     0        0      0\n",
       "3   4      F     0        0       2     1        0      2\n",
       "4   5      F     1        1       2     1        1      0"
      ],
      "text/html": [
       "<div>\n",
       "<style scoped>\n",
       "    .dataframe tbody tr th:only-of-type {\n",
       "        vertical-align: middle;\n",
       "    }\n",
       "\n",
       "    .dataframe tbody tr th {\n",
       "        vertical-align: top;\n",
       "    }\n",
       "\n",
       "    .dataframe thead th {\n",
       "        text-align: right;\n",
       "    }\n",
       "</style>\n",
       "<table border=\"1\" class=\"dataframe\">\n",
       "  <thead>\n",
       "    <tr style=\"text-align: right;\">\n",
       "      <th></th>\n",
       "      <th>id</th>\n",
       "      <th>Gender</th>\n",
       "      <th>AgeM</th>\n",
       "      <th>Emotion</th>\n",
       "      <th>ProSoc</th>\n",
       "      <th>Peer</th>\n",
       "      <th>Conduct</th>\n",
       "      <th>Hyper</th>\n",
       "    </tr>\n",
       "  </thead>\n",
       "  <tbody>\n",
       "    <tr>\n",
       "      <th>0</th>\n",
       "      <td>1</td>\n",
       "      <td>F</td>\n",
       "      <td>1</td>\n",
       "      <td>0</td>\n",
       "      <td>1</td>\n",
       "      <td>2</td>\n",
       "      <td>0</td>\n",
       "      <td>0</td>\n",
       "    </tr>\n",
       "    <tr>\n",
       "      <th>1</th>\n",
       "      <td>2</td>\n",
       "      <td>F</td>\n",
       "      <td>0</td>\n",
       "      <td>1</td>\n",
       "      <td>2</td>\n",
       "      <td>0</td>\n",
       "      <td>0</td>\n",
       "      <td>0</td>\n",
       "    </tr>\n",
       "    <tr>\n",
       "      <th>2</th>\n",
       "      <td>3</td>\n",
       "      <td>M</td>\n",
       "      <td>2</td>\n",
       "      <td>0</td>\n",
       "      <td>0</td>\n",
       "      <td>0</td>\n",
       "      <td>0</td>\n",
       "      <td>0</td>\n",
       "    </tr>\n",
       "    <tr>\n",
       "      <th>3</th>\n",
       "      <td>4</td>\n",
       "      <td>F</td>\n",
       "      <td>0</td>\n",
       "      <td>0</td>\n",
       "      <td>2</td>\n",
       "      <td>1</td>\n",
       "      <td>0</td>\n",
       "      <td>2</td>\n",
       "    </tr>\n",
       "    <tr>\n",
       "      <th>4</th>\n",
       "      <td>5</td>\n",
       "      <td>F</td>\n",
       "      <td>1</td>\n",
       "      <td>1</td>\n",
       "      <td>2</td>\n",
       "      <td>1</td>\n",
       "      <td>1</td>\n",
       "      <td>0</td>\n",
       "    </tr>\n",
       "  </tbody>\n",
       "</table>\n",
       "</div>"
      ]
     },
     "execution_count": 3,
     "metadata": {},
     "output_type": "execute_result"
    }
   ],
   "execution_count": 3
  },
  {
   "cell_type": "markdown",
   "id": "08da9b8c",
   "metadata": {},
   "source": [
    "## Step 3: Create and Configure GraphSDMining Model"
   ]
  },
  {
   "cell_type": "code",
   "id": "6e597ceb",
   "metadata": {
    "ExecuteTime": {
     "end_time": "2025-06-24T09:38:15.181811Z",
     "start_time": "2025-06-24T09:38:15.179758Z"
    }
   },
   "source": [
    "model = GraphSDMining(random_state=42, n_jobs=1)\n"
   ],
   "outputs": [],
   "execution_count": 4
  },
  {
   "cell_type": "markdown",
   "id": "10c2eed5",
   "metadata": {},
   "source": [
    "## Step 4: Read Data and Construct Graph"
   ]
  },
  {
   "cell_type": "code",
   "id": "a595a6ee",
   "metadata": {
    "ExecuteTime": {
     "end_time": "2025-06-24T09:38:18.110833Z",
     "start_time": "2025-06-24T09:38:17.795881Z"
    }
   },
   "source": [
    "model.read_data(position_df, social_df, time_step=10, proximity=1.0)\n"
   ],
   "outputs": [
    {
     "name": "stderr",
     "output_type": "stream",
     "text": [
      "INFO:graphsd.mining:Reading input data and constructing interaction graph...\n",
      "INFO:graphsd.utils:Starting interaction count...\n",
      "INFO:graphsd.utils:Completed interaction counting. 87 unique pairs found.\n",
      "INFO:graphsd.mining:Created graph with 16 nodes and 87 edges.\n",
      "INFO:graphsd.mining:Graph construction complete.\n"
     ]
    }
   ],
   "execution_count": 5
  },
  {
   "cell_type": "markdown",
   "id": "46973f91",
   "metadata": {},
   "source": [
    "## Step 5: Discover Patterns"
   ]
  },
  {
   "cell_type": "code",
   "id": "9866d3de",
   "metadata": {
    "ExecuteTime": {
     "end_time": "2025-06-24T09:38:22.809587Z",
     "start_time": "2025-06-24T09:38:21.913780Z"
    }
   },
   "source": [
    "patterns = model.subgroup_discovery(mode=\"comparison\", min_support=0.2, metric=\"mean\", quality_measure=\"qP\")\n"
   ],
   "outputs": [
    {
     "name": "stderr",
     "output_type": "stream",
     "text": [
      "INFO:graphsd.mining:Starting subgroup discovery with mode='comparison', min_support=0.2, metric='mean', quality='qP'\n",
      "INFO:graphsd.mining:Extracted 87 transactions from 87 edges.\n",
      "INFO:graphsd.mining:Finished subgroup discovery. Returned 43 patterns.\n"
     ]
    }
   ],
   "execution_count": 6
  },
  {
   "cell_type": "markdown",
   "id": "5aff4cf9",
   "metadata": {},
   "source": [
    "## Step 6: View Pattern Summary"
   ]
  },
  {
   "cell_type": "code",
   "id": "d82e3a6d",
   "metadata": {
    "ExecuteTime": {
     "end_time": "2025-06-24T09:38:25.948861Z",
     "start_time": "2025-06-24T09:38:25.942474Z"
    }
   },
   "source": [
    "df = model.to_dataframe(patterns)\n",
    "df.head()\n"
   ],
   "outputs": [
    {
     "data": {
      "text/plain": [
       "                                       Pattern  Nodes  In Degree > 0  \\\n",
       "0               ((Emotion, EQ), (Conduct, EQ))     16             16   \n",
       "1                             ((Conduct, EQ),)     16             16   \n",
       "2  ((ProSoc, >), (Emotion, EQ), (Conduct, EQ))     14             14   \n",
       "3                  ((Conduct, EQ), (Hyper, >))     14             14   \n",
       "4                  ((Peer, EQ), (Emotion, EQ))     15             15   \n",
       "\n",
       "   Out Degree > 0  Edges  Mean Weight  Score  \n",
       "0              16     31         11.1    4.8  \n",
       "1              16     50          8.5    2.8  \n",
       "2              14     21         10.4    2.8  \n",
       "3              14     19         10.4    2.7  \n",
       "4              15     25          9.8    2.5  "
      ],
      "text/html": [
       "<div>\n",
       "<style scoped>\n",
       "    .dataframe tbody tr th:only-of-type {\n",
       "        vertical-align: middle;\n",
       "    }\n",
       "\n",
       "    .dataframe tbody tr th {\n",
       "        vertical-align: top;\n",
       "    }\n",
       "\n",
       "    .dataframe thead th {\n",
       "        text-align: right;\n",
       "    }\n",
       "</style>\n",
       "<table border=\"1\" class=\"dataframe\">\n",
       "  <thead>\n",
       "    <tr style=\"text-align: right;\">\n",
       "      <th></th>\n",
       "      <th>Pattern</th>\n",
       "      <th>Nodes</th>\n",
       "      <th>In Degree &gt; 0</th>\n",
       "      <th>Out Degree &gt; 0</th>\n",
       "      <th>Edges</th>\n",
       "      <th>Mean Weight</th>\n",
       "      <th>Score</th>\n",
       "    </tr>\n",
       "  </thead>\n",
       "  <tbody>\n",
       "    <tr>\n",
       "      <th>0</th>\n",
       "      <td>((Emotion, EQ), (Conduct, EQ))</td>\n",
       "      <td>16</td>\n",
       "      <td>16</td>\n",
       "      <td>16</td>\n",
       "      <td>31</td>\n",
       "      <td>11.1</td>\n",
       "      <td>4.8</td>\n",
       "    </tr>\n",
       "    <tr>\n",
       "      <th>1</th>\n",
       "      <td>((Conduct, EQ),)</td>\n",
       "      <td>16</td>\n",
       "      <td>16</td>\n",
       "      <td>16</td>\n",
       "      <td>50</td>\n",
       "      <td>8.5</td>\n",
       "      <td>2.8</td>\n",
       "    </tr>\n",
       "    <tr>\n",
       "      <th>2</th>\n",
       "      <td>((ProSoc, &gt;), (Emotion, EQ), (Conduct, EQ))</td>\n",
       "      <td>14</td>\n",
       "      <td>14</td>\n",
       "      <td>14</td>\n",
       "      <td>21</td>\n",
       "      <td>10.4</td>\n",
       "      <td>2.8</td>\n",
       "    </tr>\n",
       "    <tr>\n",
       "      <th>3</th>\n",
       "      <td>((Conduct, EQ), (Hyper, &gt;))</td>\n",
       "      <td>14</td>\n",
       "      <td>14</td>\n",
       "      <td>14</td>\n",
       "      <td>19</td>\n",
       "      <td>10.4</td>\n",
       "      <td>2.7</td>\n",
       "    </tr>\n",
       "    <tr>\n",
       "      <th>4</th>\n",
       "      <td>((Peer, EQ), (Emotion, EQ))</td>\n",
       "      <td>15</td>\n",
       "      <td>15</td>\n",
       "      <td>15</td>\n",
       "      <td>25</td>\n",
       "      <td>9.8</td>\n",
       "      <td>2.5</td>\n",
       "    </tr>\n",
       "  </tbody>\n",
       "</table>\n",
       "</div>"
      ]
     },
     "execution_count": 7,
     "metadata": {},
     "output_type": "execute_result"
    }
   ],
   "execution_count": 7
  },
  {
   "cell_type": "markdown",
   "id": "02a83e1e",
   "metadata": {},
   "source": [
    "## Step 7: Visualize Top Pattern"
   ]
  },
  {
   "cell_type": "code",
   "id": "c1e4e92e",
   "metadata": {
    "ExecuteTime": {
     "end_time": "2025-06-24T09:38:31.638432Z",
     "start_time": "2025-06-24T09:38:31.544322Z"
    }
   },
   "source": [
    "if patterns:\n",
    "    graph_viz(patterns[0].graph, title=str(patterns[0].name))\n"
   ],
   "outputs": [
    {
     "data": {
      "text/plain": [
       "<Figure size 600x600 with 1 Axes>"
      ],
      "image/png": "[encoded data removed]"
     },
     "metadata": {},
     "output_type": "display_data"
    }
   ],
   "execution_count": 8
  }
 ],
 "metadata": {},
 "nbformat": 4,
 "nbformat_minor": 5
}
